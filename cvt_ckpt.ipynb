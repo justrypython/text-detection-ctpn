{
 "cells": [
  {
   "cell_type": "code",
   "execution_count": 1,
   "metadata": {
    "collapsed": true
   },
   "outputs": [],
   "source": [
    "import os\n",
    "import tensorflow as tf\n",
    "import numpy as np"
   ]
  },
  {
   "cell_type": "code",
   "execution_count": 2,
   "metadata": {
    "collapsed": true
   },
   "outputs": [],
   "source": [
    "path = 'checkpoints/'"
   ]
  },
  {
   "cell_type": "code",
   "execution_count": 3,
   "metadata": {
    "collapsed": true
   },
   "outputs": [],
   "source": [
    "paths = os.listdir(path)"
   ]
  },
  {
   "cell_type": "code",
   "execution_count": 4,
   "metadata": {},
   "outputs": [
    {
     "data": {
      "text/plain": [
       "['model_final.ckpt.meta',\n",
       " 'checkpoint~',\n",
       " 'model_final.ckpt.index',\n",
       " 'model2_final.ckpt.meta',\n",
       " 'model2_final.ckpt.index',\n",
       " 'model_final.ckpt.data-00000-of-00001',\n",
       " 'checkpoint',\n",
       " 'model2_final.ckpt.data-00000-of-00001']"
      ]
     },
     "execution_count": 4,
     "metadata": {},
     "output_type": "execute_result"
    }
   ],
   "source": [
    "paths"
   ]
  },
  {
   "cell_type": "code",
   "execution_count": 5,
   "metadata": {
    "collapsed": true
   },
   "outputs": [],
   "source": [
    "OLD_CHECKPOINT_FILE = \"model_final.ckpt\"\n",
    "NEW_CHECKPOINT_FILE = \"model2_final.ckpt\"\n",
    "\n",
    "import tensorflow as tf\n",
    "vars_to_rename = {\n",
    "    \"lstm_o/rnn/basic_lstm_cell/weights\": \"lstm_o/rnn/basic_lstm_cell/kernel\",\n",
    "    \"lstm_o/rnn/basic_lstm_cell/biases\" : \"lstm_o/rnn/basic_lstm_cell/bias\",\n",
    "}\n",
    "new_checkpoint_vars = {}\n",
    "reader = tf.train.NewCheckpointReader(path+OLD_CHECKPOINT_FILE)\n",
    "for old_name in reader.get_variable_to_shape_map():\n",
    "    if old_name in vars_to_rename:\n",
    "        new_name = vars_to_rename[old_name]\n",
    "    else:\n",
    "        new_name = old_name\n",
    "    new_checkpoint_vars[new_name] = tf.Variable(reader.get_tensor(old_name))\n",
    "\n",
    "init = tf.global_variables_initializer()\n",
    "saver = tf.train.Saver(new_checkpoint_vars)\n",
    "\n",
    "with tf.Session() as sess:\n",
    "    sess.run(init)\n",
    "    saver.save(sess, path+NEW_CHECKPOINT_FILE)"
   ]
  },
  {
   "cell_type": "code",
   "execution_count": 6,
   "metadata": {},
   "outputs": [
    {
     "name": "stdout",
     "output_type": "stream",
     "text": [
      "conv4_3/weights\n",
      "conv5_1/weights\n",
      "conv1_1/biases\n",
      "conv3_2/biases\n",
      "conv2_1/biases\n",
      "conv1_2/biases\n",
      "conv4_1/weights\n",
      "rpn_bbox_pred/weights\n",
      "rpn_cls_score/biases\n",
      "rpn_conv/3x3/biases\n",
      "conv4_2/biases\n",
      "conv1_1/weights\n",
      "conv3_1/biases\n",
      "rpn_conv/3x3/weights\n",
      "conv2_2/biases\n",
      "conv2_1/weights\n",
      "conv5_3/biases\n",
      "rpn_bbox_pred/biases\n",
      "conv5_2/weights\n",
      "conv5_3/weights\n",
      "conv3_3/biases\n",
      "lstm_o/rnn/basic_lstm_cell/kernel\n",
      "rpn_cls_score/weights\n",
      "conv4_2/weights\n",
      "lstm_o/biases\n",
      "conv5_2/biases\n",
      "conv5_1/biases\n",
      "conv4_3/biases\n",
      "lstm_o/rnn/basic_lstm_cell/bias\n",
      "conv4_1/biases\n",
      "lstm_o/weights\n",
      "conv3_3/weights\n",
      "conv3_1/weights\n",
      "conv1_2/weights\n",
      "conv3_2/weights\n",
      "conv2_2/weights\n"
     ]
    }
   ],
   "source": [
    "reader = tf.train.NewCheckpointReader(path+NEW_CHECKPOINT_FILE)\n",
    "for old_name in reader.get_variable_to_shape_map():\n",
    "    print old_name"
   ]
  },
  {
   "cell_type": "code",
   "execution_count": 7,
   "metadata": {},
   "outputs": [
    {
     "data": {
      "text/plain": [
       "{'conv1_1/biases': <tf.Variable 'Variable_2:0' shape=(64,) dtype=float32_ref>,\n",
       " 'conv1_1/weights': <tf.Variable 'Variable_12:0' shape=(3, 3, 3, 64) dtype=float32_ref>,\n",
       " 'conv1_2/biases': <tf.Variable 'Variable_5:0' shape=(64,) dtype=float32_ref>,\n",
       " 'conv1_2/weights': <tf.Variable 'Variable_32:0' shape=(3, 3, 64, 64) dtype=float32_ref>,\n",
       " 'conv2_1/biases': <tf.Variable 'Variable_4:0' shape=(128,) dtype=float32_ref>,\n",
       " 'conv2_1/weights': <tf.Variable 'Variable_16:0' shape=(3, 3, 64, 128) dtype=float32_ref>,\n",
       " 'conv2_2/biases': <tf.Variable 'Variable_15:0' shape=(128,) dtype=float32_ref>,\n",
       " 'conv2_2/weights': <tf.Variable 'Variable_35:0' shape=(3, 3, 128, 128) dtype=float32_ref>,\n",
       " 'conv3_1/biases': <tf.Variable 'Variable_13:0' shape=(256,) dtype=float32_ref>,\n",
       " 'conv3_1/weights': <tf.Variable 'Variable_31:0' shape=(3, 3, 128, 256) dtype=float32_ref>,\n",
       " 'conv3_2/biases': <tf.Variable 'Variable_3:0' shape=(256,) dtype=float32_ref>,\n",
       " 'conv3_2/weights': <tf.Variable 'Variable_33:0' shape=(3, 3, 256, 256) dtype=float32_ref>,\n",
       " 'conv3_3/biases': <tf.Variable 'Variable_21:0' shape=(256,) dtype=float32_ref>,\n",
       " 'conv3_3/weights': <tf.Variable 'Variable_30:0' shape=(3, 3, 256, 256) dtype=float32_ref>,\n",
       " 'conv4_1/biases': <tf.Variable 'Variable_28:0' shape=(512,) dtype=float32_ref>,\n",
       " 'conv4_1/weights': <tf.Variable 'Variable_6:0' shape=(3, 3, 256, 512) dtype=float32_ref>,\n",
       " 'conv4_2/biases': <tf.Variable 'Variable_11:0' shape=(512,) dtype=float32_ref>,\n",
       " 'conv4_2/weights': <tf.Variable 'Variable_23:0' shape=(3, 3, 512, 512) dtype=float32_ref>,\n",
       " 'conv4_3/biases': <tf.Variable 'Variable_27:0' shape=(512,) dtype=float32_ref>,\n",
       " 'conv4_3/weights': <tf.Variable 'Variable:0' shape=(3, 3, 512, 512) dtype=float32_ref>,\n",
       " 'conv5_1/biases': <tf.Variable 'Variable_26:0' shape=(512,) dtype=float32_ref>,\n",
       " 'conv5_1/weights': <tf.Variable 'Variable_1:0' shape=(3, 3, 512, 512) dtype=float32_ref>,\n",
       " 'conv5_2/biases': <tf.Variable 'Variable_25:0' shape=(512,) dtype=float32_ref>,\n",
       " 'conv5_2/weights': <tf.Variable 'Variable_19:0' shape=(3, 3, 512, 512) dtype=float32_ref>,\n",
       " 'conv5_3/biases': <tf.Variable 'Variable_17:0' shape=(512,) dtype=float32_ref>,\n",
       " 'conv5_3/weights': <tf.Variable 'Variable_20:0' shape=(3, 3, 512, 512) dtype=float32_ref>,\n",
       " 'lstm_o/biases': <tf.Variable 'Variable_24:0' shape=(128,) dtype=float32_ref>,\n",
       " 'lstm_o/rnn/basic_lstm_cell/bias': <tf.Variable 'Variable_34:0' shape=(512,) dtype=float32_ref>,\n",
       " 'lstm_o/rnn/basic_lstm_cell/kernel': <tf.Variable 'Variable_7:0' shape=(256, 512) dtype=float32_ref>,\n",
       " 'lstm_o/weights': <tf.Variable 'Variable_29:0' shape=(512, 128) dtype=float32_ref>,\n",
       " 'rpn_bbox_pred/biases': <tf.Variable 'Variable_18:0' shape=(40,) dtype=float32_ref>,\n",
       " 'rpn_bbox_pred/weights': <tf.Variable 'Variable_8:0' shape=(128, 40) dtype=float32_ref>,\n",
       " 'rpn_cls_score/biases': <tf.Variable 'Variable_9:0' shape=(20,) dtype=float32_ref>,\n",
       " 'rpn_cls_score/weights': <tf.Variable 'Variable_22:0' shape=(128, 20) dtype=float32_ref>,\n",
       " 'rpn_conv/3x3/biases': <tf.Variable 'Variable_10:0' shape=(512,) dtype=float32_ref>,\n",
       " 'rpn_conv/3x3/weights': <tf.Variable 'Variable_14:0' shape=(3, 3, 512, 512) dtype=float32_ref>}"
      ]
     },
     "execution_count": 7,
     "metadata": {},
     "output_type": "execute_result"
    }
   ],
   "source": [
    "new_checkpoint_vars"
   ]
  },
  {
   "cell_type": "code",
   "execution_count": null,
   "metadata": {
    "collapsed": true
   },
   "outputs": [],
   "source": []
  }
 ],
 "metadata": {
  "kernelspec": {
   "display_name": "Python 2",
   "language": "python",
   "name": "python2"
  },
  "language_info": {
   "codemirror_mode": {
    "name": "ipython",
    "version": 2
   },
   "file_extension": ".py",
   "mimetype": "text/x-python",
   "name": "python",
   "nbconvert_exporter": "python",
   "pygments_lexer": "ipython2",
   "version": "2.7.13"
  }
 },
 "nbformat": 4,
 "nbformat_minor": 2
}
