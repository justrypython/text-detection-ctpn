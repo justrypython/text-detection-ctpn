{
 "cells": [
  {
   "cell_type": "code",
   "execution_count": 10,
   "metadata": {
    "collapsed": true
   },
   "outputs": [],
   "source": [
    "import os\n",
    "import tensorflow as tf\n",
    "import numpy as np"
   ]
  },
  {
   "cell_type": "code",
   "execution_count": 11,
   "metadata": {
    "collapsed": true
   },
   "outputs": [],
   "source": [
    "path = 'checkpoints/'"
   ]
  },
  {
   "cell_type": "code",
   "execution_count": 12,
   "metadata": {
    "collapsed": true
   },
   "outputs": [],
   "source": [
    "paths = os.listdir(path)"
   ]
  },
  {
   "cell_type": "code",
   "execution_count": 13,
   "metadata": {},
   "outputs": [
    {
     "data": {
      "text/plain": [
       "['model_final.ckpt.meta',\n",
       " 'checkpoint~',\n",
       " 'model_final.ckpt.index',\n",
       " 'model2_final.ckpt.meta',\n",
       " 'model2_final.ckpt.index',\n",
       " 'model_final.ckpt.data-00000-of-00001',\n",
       " 'checkpoint',\n",
       " 'model2_final.ckpt.data-00000-of-00001']"
      ]
     },
     "execution_count": 13,
     "metadata": {},
     "output_type": "execute_result"
    }
   ],
   "source": [
    "paths"
   ]
  },
  {
   "cell_type": "code",
   "execution_count": 9,
   "metadata": {
    "collapsed": true
   },
   "outputs": [],
   "source": [
    "OLD_CHECKPOINT_FILE = \"model_final.ckpt\"\n",
    "NEW_CHECKPOINT_FILE = \"model2_final.ckpt\"\n",
    "\n",
    "import tensorflow as tf\n",
    "vars_to_rename = {\n",
    "    \"lstm/basic_lstm_cell/weights\": \"lstm/basic_lstm_cell/kernel\",\n",
    "    \"lstm/basic_lstm_cell/biases\": \"lstm/basic_lstm_cell/bias\",\n",
    "}\n",
    "new_checkpoint_vars = {}\n",
    "reader = tf.train.NewCheckpointReader(path+OLD_CHECKPOINT_FILE)\n",
    "for old_name in reader.get_variable_to_shape_map():\n",
    "    if old_name in vars_to_rename:\n",
    "        new_name = vars_to_rename[old_name]\n",
    "    else:\n",
    "        new_name = old_name\n",
    "    new_checkpoint_vars[new_name] = tf.Variable(reader.get_tensor(old_name))\n",
    "\n",
    "init = tf.global_variables_initializer()\n",
    "saver = tf.train.Saver(new_checkpoint_vars)\n",
    "\n",
    "with tf.Session() as sess:\n",
    "    sess.run(init)\n",
    "    saver.save(sess, path+NEW_CHECKPOINT_FILE)"
   ]
  },
  {
   "cell_type": "code",
   "execution_count": 14,
   "metadata": {},
   "outputs": [
    {
     "name": "stdout",
     "output_type": "stream",
     "text": [
      "conv4_3/weights\n",
      "conv5_1/weights\n",
      "conv1_1/biases\n",
      "conv3_2/biases\n",
      "conv2_1/biases\n",
      "conv1_2/biases\n",
      "conv4_1/weights\n",
      "lstm_o/rnn/basic_lstm_cell/weights\n",
      "rpn_bbox_pred/weights\n",
      "rpn_cls_score/biases\n",
      "rpn_conv/3x3/biases\n",
      "conv4_2/biases\n",
      "conv1_1/weights\n",
      "conv3_1/biases\n",
      "rpn_conv/3x3/weights\n",
      "conv2_2/biases\n",
      "conv2_1/weights\n",
      "conv5_3/biases\n",
      "rpn_bbox_pred/biases\n",
      "conv5_2/weights\n",
      "conv5_3/weights\n",
      "conv3_3/biases\n",
      "rpn_cls_score/weights\n",
      "conv4_2/weights\n",
      "lstm_o/biases\n",
      "conv5_2/biases\n",
      "conv5_1/biases\n",
      "conv4_3/biases\n",
      "conv4_1/biases\n",
      "lstm_o/weights\n",
      "conv3_3/weights\n",
      "conv3_1/weights\n",
      "conv1_2/weights\n",
      "conv3_2/weights\n",
      "lstm_o/rnn/basic_lstm_cell/biases\n",
      "conv2_2/weights\n"
     ]
    }
   ],
   "source": [
    "reader = tf.train.NewCheckpointReader(path+NEW_CHECKPOINT_FILE)\n",
    "for old_name in reader.get_variable_to_shape_map():\n",
    "    print old_name"
   ]
  },
  {
   "cell_type": "code",
   "execution_count": null,
   "metadata": {
    "collapsed": true
   },
   "outputs": [],
   "source": []
  }
 ],
 "metadata": {
  "kernelspec": {
   "display_name": "Python 2",
   "language": "python",
   "name": "python2"
  },
  "language_info": {
   "codemirror_mode": {
    "name": "ipython",
    "version": 2
   },
   "file_extension": ".py",
   "mimetype": "text/x-python",
   "name": "python",
   "nbconvert_exporter": "python",
   "pygments_lexer": "ipython2",
   "version": "2.7.13"
  }
 },
 "nbformat": 4,
 "nbformat_minor": 2
}
